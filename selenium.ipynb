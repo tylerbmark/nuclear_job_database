{
 "cells": [
  {
   "cell_type": "code",
   "execution_count": 1,
   "metadata": {},
   "outputs": [
    {
     "ename": "ModuleNotFoundError",
     "evalue": "No module named 'selenium'",
     "output_type": "error",
     "traceback": [
      "\u001b[1;31m---------------------------------------------------------------------------\u001b[0m",
      "\u001b[1;31mModuleNotFoundError\u001b[0m                       Traceback (most recent call last)",
      "Cell \u001b[1;32mIn[1], line 1\u001b[0m\n\u001b[1;32m----> 1\u001b[0m \u001b[39mfrom\u001b[39;00m \u001b[39mselenium\u001b[39;00m \u001b[39mimport\u001b[39;00m webdriver\n\u001b[0;32m      2\u001b[0m \u001b[39mfrom\u001b[39;00m \u001b[39mselenium\u001b[39;00m\u001b[39m.\u001b[39;00m\u001b[39mwebdriver\u001b[39;00m\u001b[39m.\u001b[39;00m\u001b[39msupport\u001b[39;00m\u001b[39m.\u001b[39;00m\u001b[39mui\u001b[39;00m \u001b[39mimport\u001b[39;00m WebDriverWait\n\u001b[0;32m      3\u001b[0m \u001b[39mfrom\u001b[39;00m \u001b[39mselenium\u001b[39;00m\u001b[39m.\u001b[39;00m\u001b[39mwebdriver\u001b[39;00m\u001b[39m.\u001b[39;00m\u001b[39msupport\u001b[39;00m \u001b[39mimport\u001b[39;00m expected_conditions \u001b[39mas\u001b[39;00m EC\n",
      "\u001b[1;31mModuleNotFoundError\u001b[0m: No module named 'selenium'"
     ]
    }
   ],
   "source": [
    "from selenium import webdriver\n",
    "from selenium.webdriver.support.ui import WebDriverWait\n",
    "from selenium.webdriver.support import expected_conditions as EC\n",
    "from selenium.webdriver.common.by import By\n",
    "from bs4 import BeautifulSoup\n",
    "data_dict={\n",
    "    'Southern Company':{\n",
    "        'urls':['https://southerncompany-nuclear.jobs/#3'],\n",
    "        'jobs_tag':'li',\n",
    "        'jobs_class':'direct_joblisting',\n",
    "        'title_tag':'span',\n",
    "        'title_class':'resultHeader',\n",
    "        'location_tag':'span',\n",
    "        'location_class':'hiringPlace',\n",
    "        'url_tag':'a',\n",
    "        'url_class':'href'\n",
    "    },\n",
    "    'Westinghouse':{\n",
    "        'urls':['https://careers.westinghousenuclear.com/search/?q=&q2=&alertId=&locationsearch=&geolocation=&searchby=location&d=10&lat=&lon=&title=nuclear&location=&date=',\n",
    "                'https://careers.westinghousenuclear.com/search/?q=&title=nuclear&sortColumn=referencedate&sortDirection=desc&searchby=location&d=10&startrow=25'],\n",
    "        'jobs_tag':'tr',\n",
    "        'jobs_class':'data-row',\n",
    "        'title_tag':'a',\n",
    "        'title_class':'jobTitle-link',\n",
    "        'location_tag':'span',\n",
    "        'location_class':'jobLocation',\n",
    "        'url_tag':'a',\n",
    "        'url_class':'href'\n",
    "    },\n",
    "    'Duke Energy':{\n",
    "    'urls':['https://dukeenergy.wd1.myworkdayjobs.com/search?q=nuclear'],\n",
    "    'jobs_tag':'li',    \n",
    "    'jobs_class':'css-1q2dra3',\n",
    "    'title_tag':'span',\n",
    "    'title_class':'resultHeader',\n",
    "    'location_tag':'span',\n",
    "    'location_class':'hiringPlace',\n",
    "    'url_tag':'a',\n",
    "    'url_class':'href'},\n",
    "    # 'LANL':{\n",
    "    #     'urls':['https://jobsp1.lanl.gov/OA_HTML/OA.jsp?page=/oracle/apps/irc/candidateSelfService/webui/VisAdJobSchPG&_ri=821&SeededSearchFlag=Y&DaysSincePosting=1001&_ti=129777394&retainAM=Y&addBreadCrumb=S&oapc=13&oas=csRQyXq9XIMVJWwo-Pn2kQ..'],\n",
    "    #     'jobs_tag':'table',\n",
    "    #     'jobs_class':'xdo',\n",
    "    #     'jobs_id':'',\n",
    "    #     'title_tag':'span',\n",
    "    #     'title_class':'',\n",
    "    #     'title_id':'JobSearchTable:JobTitle:0',\n",
    "    #     'location_tag':'',\n",
    "    #     'location_class':'',\n",
    "    #     'url_tag':'a',\n",
    "    #     'url_class':'href'\n",
    "\n",
    "    # }\n",
    "\n",
    "}\n",
    "# driver=webdriver.Chrome('C:\\Program Files\\Google\\Chrome\\Application\\chrome.exe')\n",
    "driver=webdriver.Chrome('chromedriver.exe')\n",
    "driver.get(\"https://dukeenergy.wd1.myworkdayjobs.com/search?q=nuclear\")\n",
    "wait=WebDriverWait(driver,100)\n",
    "wait.until(EC.presence_of_element_located((By.XPATH, '/html/body/div/div/div/div[3]/div/div/div[2]/section/ul/li[1]')))\n",
    "# driver.execute_script(\"window.scrollTo(0, document.body.scrollHeight);\")\n",
    "html=driver.page_source\n",
    "print(html)\n",
    "driver.quit()\n",
    "\n",
    "soup=BeautifulSoup(html,'html.parser')\n",
    "job_listings=soup.find_all('li',class_='css-1q2dra3')\n",
    "for job_listing in job_listings:\n",
    "    title = job_listing.find('span',class_='resultHeader').text.strip()\n",
    "    location = job_listing.find('span', class_='hiringPlace').text.strip()\n",
    "    link = job_listing.find('a')['href']\n",
    "\n",
    "print(job_listings)"
   ]
  },
  {
   "cell_type": "code",
   "execution_count": null,
   "metadata": {},
   "outputs": [],
   "source": []
  }
 ],
 "metadata": {
  "kernelspec": {
   "display_name": "fun",
   "language": "python",
   "name": "python3"
  },
  "language_info": {
   "codemirror_mode": {
    "name": "ipython",
    "version": 3
   },
   "file_extension": ".py",
   "mimetype": "text/x-python",
   "name": "python",
   "nbconvert_exporter": "python",
   "pygments_lexer": "ipython3",
   "version": "3.10.11"
  },
  "orig_nbformat": 4
 },
 "nbformat": 4,
 "nbformat_minor": 2
}
