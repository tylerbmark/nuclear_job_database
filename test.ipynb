{
 "cells": [
  {
   "cell_type": "code",
   "execution_count": 170,
   "metadata": {},
   "outputs": [],
   "source": [
    "url_dict={\n",
    "    'Southern Company':\n",
    "        ['https://southerncompany-nuclear.jobs/#3'],\n",
    "    'Westinghouse':\n",
    "        ['https://careers.westinghousenuclear.com/search/?q=&q2=&alertId=&locationsearch=&geolocation=&searchby=location&d=10&lat=&lon=&title=nuclear&location=&date=',\n",
    "        'https://careers.westinghousenuclear.com/search/?q=&title=nuclear&sortColumn=referencedate&sortDirection=desc&searchby=location&d=10&startrow=25'],    \n",
    "}\n",
    "\n",
    "##job title dictionary values:\n",
    "## [tag,class]\n",
    "title_dict={\n",
    "    'Southern Company':\n",
    "        ['span','resultHeader'],\n",
    "    'Westinghouse':\n",
    "        ['a','jobTitle-link']\n",
    "}\n",
    "location_dict={\n",
    "    'Southern Company':\n",
    "        ['span','hiringPlace'],\n",
    "    'Westinghouse':\n",
    "        ['td','colLocation']\n",
    "}\n",
    "url_dict_i={\n",
    "    'Southern Company':\n",
    "        []\n",
    "}"
   ]
  },
  {
   "cell_type": "code",
   "execution_count": 154,
   "metadata": {},
   "outputs": [
    {
     "ename": "IndexError",
     "evalue": "list index out of range",
     "output_type": "error",
     "traceback": [
      "\u001b[0;31m---------------------------------------------------------------------------\u001b[0m",
      "\u001b[0;31mIndexError\u001b[0m                                Traceback (most recent call last)",
      "Cell \u001b[0;32mIn[154], line 18\u001b[0m\n\u001b[1;32m     14\u001b[0m jobs_data \u001b[39m=\u001b[39m []\n\u001b[1;32m     15\u001b[0m \u001b[39m# print(job_opportunities)\u001b[39;00m\n\u001b[1;32m     16\u001b[0m \u001b[39m# print(job_locations)\u001b[39;00m\n\u001b[1;32m     17\u001b[0m \u001b[39m# for job in job_url:\u001b[39;00m\n\u001b[0;32m---> 18\u001b[0m \u001b[39mprint\u001b[39m(job_opportunities[\u001b[39m0\u001b[39;49m]\u001b[39m.\u001b[39mtext)\n\u001b[1;32m     19\u001b[0m \u001b[39mprint\u001b[39m(job_url[\u001b[39m0\u001b[39m][\u001b[39m'\u001b[39m\u001b[39mhref\u001b[39m\u001b[39m'\u001b[39m])\n\u001b[1;32m     20\u001b[0m \u001b[39m# print(help(job_url[0]))\u001b[39;00m\n\u001b[1;32m     21\u001b[0m \u001b[39m# print(soup)\u001b[39;00m\n\u001b[1;32m     22\u001b[0m \u001b[39m# print(len(job_opportunities))\u001b[39;00m\n\u001b[0;32m   (...)\u001b[0m\n\u001b[1;32m     26\u001b[0m     \u001b[39m# title = job.find('span').text.strip()\u001b[39;00m\n\u001b[1;32m     27\u001b[0m     \u001b[39m# print(title)\u001b[39;00m\n",
      "\u001b[0;31mIndexError\u001b[0m: list index out of range"
     ]
    }
   ],
   "source": [
    "import requests\n",
    "from bs4 import BeautifulSoup\n",
    "import pandas as pd\n",
    "import numpy as np\n",
    "import math\n",
    "#Testing the HTML parameters of specific url\n",
    "# url='https://southerncompany-nuclear.jobs/#3'\n",
    "url=url_dict['Westinghouse'][0]\n",
    "response = requests.get(url)\n",
    "soup = BeautifulSoup(response.content, 'html.parser')\n",
    "job_opportunities = soup.find_all('span',class_=\"resultHeader\")\n",
    "job_locations=soup.find_all('span',class_=\"hiringPlace\")\n",
    "job_url=soup.find_all('a',class_='jobTitle-link')\n",
    "jobs_data = []\n",
    "# print(job_opportunities)\n",
    "# print(job_locations)\n",
    "# for job in job_url:\n",
    "for job in job_opportunities:\n",
    "    print(job.text)\n",
    "print(job_opportunities[0])\n",
    "print(job_url[0]['href'])\n",
    "# print(help(job_url[0]))\n",
    "# print(soup)\n",
    "# print(len(job_opportunities))\n",
    "# for job in job_opportunities:\n",
    "#     print(job.text)\n",
    "    # print(job.find('span',class_=\"resultHeader\"))\n",
    "    # title = job.find('span').text.strip()\n",
    "    # print(title)"
   ]
  },
  {
   "cell_type": "code",
   "execution_count": 171,
   "metadata": {},
   "outputs": [
    {
     "name": "stdout",
     "output_type": "stream",
     "text": [
      "Southern Company\n",
      "19 19\n",
      "Westinghouse\n",
      "25 50\n",
      "7 14\n"
     ]
    }
   ],
   "source": [
    "for employer in list(url_dict.keys()):\n",
    "    print(employer)\n",
    "    for url_ind in range(len(url_dict[employer])):\n",
    "        url=url_dict[employer][url_ind]\n",
    "        response = requests.get(url)\n",
    "        soup = BeautifulSoup(response.content, 'html.parser')\n",
    "        job_opportunities = soup.find_all(title_dict[employer][0],class_=title_dict[employer][1])\n",
    "        job_locations = soup.find_all(location_dict[employer][0],class_=location_dict[employer][1])\n",
    "        jobs_title = []\n",
    "        jobs_loc=[]\n",
    "        # print(job_locations[0].text)\n",
    "        for job in job_opportunities:\n",
    "            jobs_title.append(job.text.split())\n",
    "        for job in job_locations:\n",
    "            jobs_loc.append(job.text.split())\n",
    "        \n",
    "\n",
    "        ##This method relys that there are duplicates of tags\n",
    "        ## Deletes elements at beginning and end of list which don't repeat\n",
    "        # for i in jobs_title,jobs_loc:\n",
    "        #     print(i)\n",
    "        #     if i[0]!=i[1]:\n",
    "        #         i.pop(0)\n",
    "        #     if i[-1]!=i[-2]:\n",
    "        #         i.pop(-1)\n",
    "\n",
    "\n",
    "        jobs_loc=[' '.join(i) for i in jobs_loc]\n",
    "        jobs_title=[' '.join(i) for i in jobs_title]\n",
    "        print(len(jobs_loc),len(jobs_title))\n",
    "        gcd_val=math.gcd(len(jobs_title),len(jobs_loc))\n",
    "        jobs_title=jobs_title[::int(len(jobs_title)/gcd_val)]\n",
    "        jobs_loc=jobs_loc[::int(len(jobs_loc)/gcd_val)]\n",
    "        df=pd.DataFrame({\n",
    "            'Title':jobs_title,\n",
    "            'Locations':jobs_loc\n",
    "        })\n",
    "        with pd.ExcelWriter(\"data.xlsx\",mode='a',if_sheet_exists='replace') as writer:\n",
    "                df.to_excel(writer,sheet_name=employer+str(url_ind))\n"
   ]
  },
  {
   "cell_type": "code",
   "execution_count": 156,
   "metadata": {},
   "outputs": [],
   "source": [
    "import pandas as pd\n",
    "import os\n",
    "def init_files():\n",
    "    df_test=pd.DataFrame({\n",
    "        'test':['test']\n",
    "    })\n",
    "    with pd.ExcelWriter('data.xlsx',engine='openpyxl',mode='w') as writer:\n",
    "        df_test.to_excel(writer,sheet_name='test',index=False)\n",
    "# os.remove('data.xlsx')\n",
    "# os.\n",
    "init_files()\n",
    "# book = pd.read_excel('data.xlsx',sheet_name=None)\n",
    "# book_keys=list(book.keys())\n",
    "# print(book_keys)\n",
    "# with pd.ExcelWriter('data.xlsx',mode='a',if_sheet_exists='replace') as writer:\n",
    "#     df.to_excel(writer, sheet_name='Westinghouse',index=False)\n"
   ]
  }
 ],
 "metadata": {
  "kernelspec": {
   "display_name": "fun",
   "language": "python",
   "name": "python3"
  },
  "language_info": {
   "codemirror_mode": {
    "name": "ipython",
    "version": 3
   },
   "file_extension": ".py",
   "mimetype": "text/x-python",
   "name": "python",
   "nbconvert_exporter": "python",
   "pygments_lexer": "ipython3",
   "version": "3.9.15"
  },
  "orig_nbformat": 4
 },
 "nbformat": 4,
 "nbformat_minor": 2
}
